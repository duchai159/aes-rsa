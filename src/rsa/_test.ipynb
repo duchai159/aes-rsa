{
 "cells": [
  {
   "cell_type": "code",
   "execution_count": 1,
   "metadata": {},
   "outputs": [],
   "source": [
    "from rsa_key import RSAKey\n",
    "from rsa import oaep_encrypt, oaep_decrypt"
   ]
  },
  {
   "cell_type": "code",
   "execution_count": 2,
   "metadata": {},
   "outputs": [
    {
     "name": "stdout",
     "output_type": "stream",
     "text": [
      "prime p:  123650942388761658608066816745409107456543988522417215609818080428904382935187674931884478941701295959481587837064981339643442122602711936294521842088601118709281836478222393026044076481348449689634675933586069586586575721712401036321379275311541714812800669194663268000087568200735888116791806366149378908187\n",
      "prime q:  121492594175946292189688145043684571807592607331585498882108687269509433772893607307743474789783533885642786270996648424961593098676825732020308653792047640621401881507464503405100243927070135773706648942084239449388680783275450316091835000805665657997855979316303143363892279415558507502502805053312367292713\n",
      "Public Key:  (145365801277430944780712623858298371131368112816750404823035601573654719968136722311061953582320120085897261324743523115522689951230904097763624338721352834316608905890268366962388008843231747530437409630734622319942646559817120114157484925738320623989716433792903300800448028526245764221722876997847123953467, 15022673763111135191099821090209334091064343665484302274653355204037178252669563146971561605528008180132299751372179391391837073709582385932761224619783329972335754759597493655044195667676082349072745189089512630393001113416508119323551051479188067956666519897156887136538215640594881506725997915345706519889432386121045471898609757362125115412625640374708863644897081355705271805284874355803232387009417455334065137027275201096891424364526262350022458596446987868491097061530277389591502184056232161080986670781146389395279866230384805221272304479478671918766043984387637444674414338747409096377046565007796981141331)\n",
      "Private Key:  (3281371410850708250050578413932269903488643509723886639181193826924208886189650417997324334503272354011526313463250992626967170749638342201722679151938453491003408737911764585503987621286698415091649821946301041693938868163280992468764928058667372539330694850861592666398546085581387300704383558951354428641120670309897421992204082297828759637380044195405951049962106515467812164288116511428438858005258938252662706962131695998316014262463913249178617453025908175316950476233214714762417579603864991609692189354783963182938677161410325225984254759134990553615544920295180210926075861170144430693510048860210822128083, 15022673763111135191099821090209334091064343665484302274653355204037178252669563146971561605528008180132299751372179391391837073709582385932761224619783329972335754759597493655044195667676082349072745189089512630393001113416508119323551051479188067956666519897156887136538215640594881506725997915345706519889432386121045471898609757362125115412625640374708863644897081355705271805284874355803232387009417455334065137027275201096891424364526262350022458596446987868491097061530277389591502184056232161080986670781146389395279866230384805221272304479478671918766043984387637444674414338747409096377046565007796981141331)\n"
     ]
    }
   ],
   "source": [
    "key_pairs = RSAKey(1024)\n",
    "pub_key = key_pairs.public_key\n",
    "prv_key = key_pairs.private_key\n",
    "\n",
    "print('Public Key: ', pub_key.get_key())\n",
    "print('Private Key: ', prv_key.get_key())"
   ]
  },
  {
   "cell_type": "code",
   "execution_count": null,
   "metadata": {},
   "outputs": [],
   "source": [
    "\n",
    "def import_export(pub_key:RSAKey, prv_key:RSAKey):\n",
    "    print('--------------------------------------Export/Import Key Module--------------------------------------')\n",
    "\n",
    "    exported_pub_key = pub_key.export_key()\n",
    "    # file_name = input(\"Name of Public Key: \")\n",
    "    file_name = \"public_key.txt\"\n",
    "    with open(file_name, 'w') as f:\n",
    "        f.write(exported_pub_key)\n",
    "\n",
    "    file_name = \"private_key.txt\"\n",
    "    exported_prv_key = prv_key.export_key()\n",
    "    with open(file_name, 'w') as f:\n",
    "        f.write(exported_prv_key)\n",
    "        \n",
    "    print('Exported Public Key: \\n', exported_pub_key)\n",
    "    print('Exported Private Key: \\n', exported_prv_key)\n",
    "\n"
   ]
  },
  {
   "cell_type": "code",
   "execution_count": null,
   "metadata": {},
   "outputs": [],
   "source": [
    "import_export(pub_key, prv_key)"
   ]
  },
  {
   "cell_type": "code",
   "execution_count": null,
   "metadata": {},
   "outputs": [],
   "source": [
    "key_pairs._size_in_bytes()"
   ]
  },
  {
   "cell_type": "code",
   "execution_count": 3,
   "metadata": {},
   "outputs": [
    {
     "name": "stdout",
     "output_type": "stream",
     "text": [
      "256\n",
      "OAEP Encrypted Message:  b'hNEy\\x0b.\\x0c\\x95\\xe30\\x83^71\\xd1fT\\xde\\x1dHg\\x00\\x94\\xe5\\xb9\\xdc\\x88\\x07\\x01\\xe6+\\xd9\\x91\\xc6,\\xc2\\xb8\\x958\\xc7\\x98\\x9aY\\x1c\\xf3\\n\\xbf\\xee\\xb4\\x9b\\x03\\x87\\x04\\x1a\\xbam\\xbb\\xcf\\xa5K\\t\\x13\\x0c\\x16\\x85\\'\\xc0e \\xaa\\x05|8\\xd3\\xc14\\x83k\\xe5q&BT\\xa2\\xd8\\x0b\\xec\\xcb\\x0c\\xc96\\xdc\\x1a5`\\xb4\\x97}\\xf7\\x89k\\xb6<\\xa9\\x0cm\\xb0*\"\\xfa)\\xca.\\x02\"3\\xad\\xffG\\xdf\\xe0A\\xe2k\\xa9GW*\\x8c\\xafw\\x0fY\\xd4<\\xae\\xe6{\\x0elt\\x97\\n\\xed\\xc1\\xe2j\\xc3\\xa6-{\\x06\\xcdEI_\\xff\\x12\\x9c\\x84\\xbe\\xef\\xd2(t\\xfaF\\xd8\\xf3\\xb6\\x7f2}\\xa8p\\x07\\xdc\\xb4j@x\\x85LJC\\xc7`\\xfd\\xd4\\x1cA\\xb6\\x0e\\xf4\\xa9\\xb8i;\\x04\\x13\\x0f\\xe9\\x99\\xe7T\\xc2\\xcbx\\x06\\xfb\\x82(W\\xfb$\\xbbji\\xbc\\xe1\\xaa\\xc8v\\xf0\\xaf#\\xd1\\xe0\\xec\\x1c\\xa6^\\xb9a\\x05+\\x06e.X*\\x1c\\x1a\\x86\\xa1U\\x88Wa\\x05o\\xfe2\\xaf8\\xa1'\n"
     ]
    }
   ],
   "source": [
    "message = \"Message to encrypt: Nguyễn Hồng Đức\"\n",
    "EM = oaep_encrypt(M=message, pub_key=pub_key)\n",
    "print(\"OAEP Encrypted Message: \",EM)\n",
    "\n",
    "# name_of_file = input(\"Name of file:\")\n",
    "name_of_file = \"encrypt.txt\"\n",
    "with open(name_of_file, 'wb') as f:\n",
    "    f.write(EM)"
   ]
  },
  {
   "cell_type": "code",
   "execution_count": 4,
   "metadata": {},
   "outputs": [
    {
     "name": "stdout",
     "output_type": "stream",
     "text": [
      "OAEP Decrypted Message:  Message to encrypt: Nguyễn Hồng Đức\n"
     ]
    }
   ],
   "source": [
    "\n",
    "with open(name_of_file, \"rb\") as f:\n",
    "    EM = f.read()\n",
    "DM = oaep_decrypt(C=EM, prv_key=prv_key)\n",
    "print(\"OAEP Decrypted Message: \",DM)"
   ]
  }
 ],
 "metadata": {
  "kernelspec": {
   "display_name": "Python 3",
   "language": "python",
   "name": "python3"
  },
  "language_info": {
   "codemirror_mode": {
    "name": "ipython",
    "version": 3
   },
   "file_extension": ".py",
   "mimetype": "text/x-python",
   "name": "python",
   "nbconvert_exporter": "python",
   "pygments_lexer": "ipython3",
   "version": "3.9.6"
  }
 },
 "nbformat": 4,
 "nbformat_minor": 2
}
